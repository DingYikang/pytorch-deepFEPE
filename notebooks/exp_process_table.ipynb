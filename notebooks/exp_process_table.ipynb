{
 "cells": [
  {
   "cell_type": "markdown",
   "metadata": {},
   "source": [
    "## Experiments processed to table\n",
    "- model evaluated by `run_eval_good.py`\n",
    "- print the results in latex table.\n",
    "- check the config file `table_trans_rot_kitti_apollo.yaml`.\n",
    "    "
   ]
  },
  {
   "cell_type": "code",
   "execution_count": 48,
   "metadata": {},
   "outputs": [
    {
     "name": "stdout",
     "output_type": "stream",
     "text": [
      "/home/yoyee/Documents/deepSfm/deepFEPE\n"
     ]
    }
   ],
   "source": [
    "import os\n",
    "import sys\n",
    "module_path = os.path.abspath(os.path.join('..'))\n",
    "if module_path not in sys.path:\n",
    "    sys.path.append(module_path)\n",
    "os.chdir('../deepFEPE/')\n",
    "print(os.getcwd())"
   ]
  },
  {
   "cell_type": "code",
   "execution_count": 57,
   "metadata": {},
   "outputs": [
    {
     "name": "stdout",
     "output_type": "stream",
     "text": [
      "The autoreload extension is already loaded. To reload it, use:\n",
      "  %reload_ext autoreload\n"
     ]
    }
   ],
   "source": [
    "%load_ext autoreload\n",
    "%autoreload 2\n",
    "import numpy as np"
   ]
  },
  {
   "cell_type": "markdown",
   "metadata": {},
   "source": [
    "## Use utils.eval_tools to print tables"
   ]
  },
  {
   "cell_type": "code",
   "execution_count": 58,
   "metadata": {},
   "outputs": [
    {
     "name": "stdout",
     "output_type": "stream",
     "text": [
      "Namespace(config='configs/table_trans_rot_kitti_apollo.yaml', exper_name='table_rot_test')\n",
      "logs/table_rot_test\n"
     ]
    }
   ],
   "source": [
    "import logging\n",
    "import argparse\n",
    "import yaml\n",
    "from settings import EXPER_PATH\n",
    "\n",
    "logging.basicConfig(format='[%(asctime)s %(levelname)s] %(message)s',\n",
    "                    datefmt='%m/%d/%Y %H:%M:%S', level=logging.DEBUG)\n",
    "\n",
    "# add parser\n",
    "parser = argparse.ArgumentParser(description='Foo')\n",
    "\n",
    "# Training command\n",
    "parser.add_argument('config', type=str)\n",
    "parser.add_argument('exper_name', type=str)\n",
    "args = parser.parse_args('configs/table_trans_rot_kitti_apollo.yaml table_rot_test'.split())\n",
    "print(args)\n",
    "\n",
    "## load configs\n",
    "with open(args.config, 'r') as f:\n",
    "    config = yaml.load(f)\n",
    "output_dir = os.path.join(EXPER_PATH, args.exper_name)\n",
    "print(output_dir)\n",
    "# print(f\"config: {config}\")\n"
   ]
  },
  {
   "cell_type": "code",
   "execution_count": null,
   "metadata": {
    "scrolled": true
   },
   "outputs": [],
   "source": [
    "## read results\n",
    "from utils.eval_tools import Exp_table_processor\n",
    "# seq_dict_name = 'seq_dict_ablation_kitti_apollo' # 'seq_dict_poses' # seq_dict_ablation, seq_dict_ablation_kitti, seq_dict_ablation_kitti_apollo\n",
    "# seq_dict_name = ['seq_dict_ablation_kitti']\n",
    "\n",
    "def table_config(mode=\"\"):\n",
    "    table_list = []\n",
    "    if mode == 'kitti':\n",
    "        seq_dict_name = ['seq_dict_ablation_kitti', 'seq_dict_ablation_kitti_apollo'] # 'seq_dict_poses' # seq_dict_ablation, seq_dict_ablation_kitti, seq_dict_ablation_kitti_apollo\n",
    "        table_list = ['table_kittiModels_ours_kit', 'table_kittiModels_baselines_kit',\n",
    "                      'table_kittiModels_our_apo', 'table_kittiModels_baselines_apo']\n",
    "    elif mode == 'apollo':\n",
    "        ### new apollo set: train_seq_2\n",
    "        seq_dict_name = ['seq_dict_ablation_apollo_new_kitti', 'seq_dict_ablation_apollo_new_apollo'] # 'seq_dict_poses' # seq_dict_ablation, seq_dict_ablation_kitti, seq_dict_ablation_kitti_apollo\n",
    "        model_base = 'apollo'\n",
    "        table_list = ['table_apolloModels_ours_kit', 'table_apolloModels_baselines_kit', \n",
    "                      'table_apolloModels_our_apo', 'table_apolloModels_baselines_apo'] # 'seq_dict_poses' # seq_dict_ablation, seq_dict_ablation_kitti, seq_dict_ablation_kitti_apollo\n",
    "    elif mode == 'gt':\n",
    "        # extract gt\n",
    "        seq_dict_name = ['seq_dict_gt']  \n",
    "        \n",
    "    elif mode == 'test':\n",
    "        seq_dict_name = ['seq_dict_test']\n",
    "    \n",
    "    return seq_dict_name, table_list\n",
    "        \n",
    "# read the sequences\n",
    "mode = 'test' # 'apollo', 'kitti'\n",
    "seq_dict_name, table_list = table_config(mode=mode)\n",
    "\n",
    "table_processor = Exp_table_processor(config, seq_dict_name=seq_dict_name, debug=True)\n",
    "table_processor.get_result_dict(if_print=True)\n",
    "table_processor.print_tables(if_name=True, table_list=table_list)\n"
   ]
  },
  {
   "cell_type": "markdown",
   "metadata": {},
   "source": [
    "## Plot out the errors (deg)"
   ]
  },
  {
   "cell_type": "code",
   "execution_count": 47,
   "metadata": {},
   "outputs": [
    {
     "name": "stderr",
     "output_type": "stream",
     "text": [
      "[07/10/2020 14:01:40 DEBUG] Loaded backend module://ipykernel.pylab.backend_inline version unknown.\n",
      "[07/10/2020 14:01:40 DEBUG] update_title_pos\n",
      "[07/10/2020 14:01:40 DEBUG] update_title_pos\n"
     ]
    },
    {
     "name": "stdout",
     "output_type": "stream",
     "text": [
      "arr: (5804,)\n"
     ]
    },
    {
     "name": "stderr",
     "output_type": "stream",
     "text": [
      "[07/10/2020 14:01:40 DEBUG] update_title_pos\n",
      "[07/10/2020 14:01:40 DEBUG] update_title_pos\n"
     ]
    },
    {
     "data": {
      "image/png": "[encoded data removed]",
      "text/plain": [
       "<Figure size 432x288 with 1 Axes>"
      ]
     },
     "metadata": {
      "needs_background": "light"
     },
     "output_type": "display_data"
    }
   ],
   "source": [
    "import matplotlib.pyplot as plt\n",
    "%matplotlib inline\n",
    "\n",
    "exp_dict = table_processor.exp_dict\n",
    "err_mat = ['err_q', 'err_t']\n",
    "est_dict = {}\n",
    "\n",
    "for i, exp in enumerate(exp_dict):\n",
    "#     exp_dict[exp][]\n",
    "    est_dict[exp] = {}\n",
    "    for en in err_mat:\n",
    "        arr = exp_dict[exp][en]\n",
    "        arr = np.clip(arr, 0, 25)\n",
    "        est_dict[exp][en] = arr\n",
    "        plt.plot(arr)\n",
    "print(f\"arr: {arr.shape}\")\n",
    "\n",
    "\n",
    "plt.show()"
   ]
  },
  {
   "cell_type": "code",
   "execution_count": 3,
   "metadata": {},
   "outputs": [],
   "source": [
    "### plot to tensorboard!\n",
    "from tensorboardX import SummaryWriter\n",
    "#SummaryWriter encapsulates everything\n"
   ]
  },
  {
   "cell_type": "code",
   "execution_count": null,
   "metadata": {},
   "outputs": [],
   "source": [
    "for i, en in enumerate(est_dict):\n",
    "    writer = SummaryWriter(f'runs/exp/plot_acc_{en}_1115')\n",
    "    result_dict = est_dict[en]\n",
    "    print(f\"en: {en}\")\n",
    "    write_to_writer(writer, result_dict)"
   ]
  },
  {
   "cell_type": "code",
   "execution_count": 172,
   "metadata": {},
   "outputs": [],
   "source": [
    "en = 'Sp-D-end-k-f-p.k'\n",
    "result_dict = est_dict[en]\n",
    "writer = SummaryWriter(f'runs/exp/plot_acc_{en}_1115')\n",
    "write_to_writer(writer, result_dict)"
   ]
  },
  {
   "cell_type": "markdown",
   "metadata": {},
   "source": [
    "## Relative pose"
   ]
  },
  {
   "cell_type": "code",
   "execution_count": 39,
   "metadata": {
    "scrolled": true
   },
   "outputs": [
    {
     "name": "stderr",
     "output_type": "stream",
     "text": [
      "[07/11/2020 11:01:53 DEBUG] folder_list: {'Si.k': PosixPath('/home/yoyee/Documents/deepSfm/deepFEPE/logs/baselineTrain_deepF_kitti_fLoss_v1_30.0k_kittiTestall_test_0708/opencv_8p_err_ratio.npz'), 'Si-D.k': PosixPath('/home/yoyee/Documents/deepSfm/deepFEPE/logs/baselineTrain_deepF_kitti_fLoss_v1_30.0k_kittiTestall_test_0708/DeepF_err_ratio.npz'), 'Sp-D-end-k-f-p.k': PosixPath('/home/yoyee/Documents/deepSfm/deepFEPE/logs/baselineTrain_kittiSp_deepF_end_kittiFLossPoseLoss_v1_freezeSp_38.0k_kittiTestall_test_0708/DeepF_err_ratio.npz'), 'Sp-k.k': PosixPath('/home/yoyee/Documents/deepSfm/deepFEPE/logs/baselineTrain_kittiSp_deepF_end_kittiFLossPoseLoss_v1_freezeSp_38.0k_kittiTestall_test_0708/opencv_8p_err_ratio.npz')}\n"
     ]
    },
    {
     "name": "stdout",
     "output_type": "stream",
     "text": [
      "len of exp_dict: 4\n",
      "err_mat: ['err_q', 'err_t', 'epi_dists'], exp_names: ['Si.k', 'Si-D.k', 'Sp-D-end-k-f-p.k', 'Sp-k.k']\n",
      "- name: Si.k\n",
      "exp_dict[exp]: ['err_q', 'err_t', 'epi_dists', 'relative_poses_cam', 'relative_poses_body']\n",
      "  - exp: err_q\n",
      "[0.01111111 0.06774194 0.42688172 0.81648746 0.97383513 0.99677419\n",
      " 0.99784946 0.99784946 0.99784946 0.99784946]\n",
      "exp_dict[exp]: ['err_q', 'err_t', 'epi_dists', 'relative_poses_cam', 'relative_poses_body']\n",
      "  - exp: err_t\n",
      "[3.58422939e-04 7.16845878e-04 5.37634409e-03 2.36559140e-02\n",
      " 8.35125448e-02 3.89964158e-01 7.34767025e-01 9.00358423e-01\n",
      " 9.75268817e-01 9.92473118e-01]\n",
      "exp_dict[exp]: ['err_q', 'err_t', 'epi_dists', 'relative_poses_cam', 'relative_poses_body']\n",
      "  - exp: epi_dists\n",
      "[0.02956989 0.04584229 0.09612903 0.17727599 0.33114695 0.6265233\n",
      " 0.8116129  0.89917563 0.93473118 0.94677419]\n",
      "- name: Si-D.k\n",
      "exp_dict[exp]: ['err_q', 'err_t', 'epi_dists', 'relative_poses_cam', 'relative_poses_body']\n",
      "  - exp: err_q\n",
      "[0.02544803 0.14802867 0.64408602 0.93835125 0.99318996 0.99856631\n",
      " 0.99964158 1.         1.         1.        ]\n",
      "exp_dict[exp]: ['err_q', 'err_t', 'epi_dists', 'relative_poses_cam', 'relative_poses_body']\n",
      "  - exp: err_t\n",
      "[7.16845878e-04 1.07526882e-03 7.52688172e-03 3.72759857e-02\n",
      " 1.36200717e-01 5.08243728e-01 8.11469534e-01 9.13978495e-01\n",
      " 9.63082437e-01 9.83870968e-01]\n",
      "exp_dict[exp]: ['err_q', 'err_t', 'epi_dists', 'relative_poses_cam', 'relative_poses_body']\n",
      "  - exp: epi_dists\n",
      "[0.02010753 0.03935484 0.09896057 0.19688172 0.36910394 0.66702509\n",
      " 0.83154122 0.90286738 0.93580645 0.94706093]\n",
      "- name: Sp-D-end-k-f-p.k\n",
      "exp_dict[exp]: ['err_q', 'err_t', 'epi_dists', 'relative_poses_cam', 'relative_poses_body']\n",
      "  - exp: err_q\n",
      "[0.01362007 0.09103943 0.47992832 0.87849462 0.99139785 1.\n",
      " 1.         1.         1.         1.        ]\n",
      "exp_dict[exp]: ['err_q', 'err_t', 'epi_dists', 'relative_poses_cam', 'relative_poses_body']\n",
      "  - exp: err_t\n",
      "[0.         0.00143369 0.01433692 0.03870968 0.12759857 0.46810036\n",
      " 0.78709677 0.91146953 0.97634409 0.99498208]\n",
      "exp_dict[exp]: ['err_q', 'err_t', 'epi_dists', 'relative_poses_cam', 'relative_poses_body']\n",
      "  - exp: epi_dists\n",
      "[0.00810036 0.01655914 0.04035842 0.08064516 0.16043011 0.36387097\n",
      " 0.56810036 0.71383513 0.80942652 0.86971326]\n",
      "- name: Sp-k.k\n",
      "exp_dict[exp]: ['err_q', 'err_t', 'epi_dists', 'relative_poses_cam', 'relative_poses_body']\n",
      "  - exp: err_q\n",
      "[3.58422939e-04 1.21863799e-02 8.74551971e-02 3.02150538e-01\n",
      " 6.29032258e-01 9.19713262e-01 9.69892473e-01 9.86379928e-01\n",
      " 9.96057348e-01 9.98566308e-01]\n",
      "exp_dict[exp]: ['err_q', 'err_t', 'epi_dists', 'relative_poses_cam', 'relative_poses_body']\n",
      "  - exp: err_t\n",
      "[0.         0.         0.00179211 0.0046595  0.02150538 0.1265233\n",
      " 0.36200717 0.65519713 0.88637993 0.95089606]\n",
      "exp_dict[exp]: ['err_q', 'err_t', 'epi_dists', 'relative_poses_cam', 'relative_poses_body']\n",
      "  - exp: epi_dists\n",
      "[0.02150538 0.02738351 0.04594982 0.07913978 0.14713262 0.29878136\n",
      " 0.48322581 0.66354839 0.79824373 0.86458781]\n",
      "ratio_dict: {'Si.k': {'err_q': array([0.01111111, 0.06774194, 0.42688172, 0.81648746, 0.97383513,\n",
      "       0.99677419, 0.99784946, 0.99784946, 0.99784946, 0.99784946]), 'err_q_mean': [0.4557465775717267], 'err_q_median': [0.05678641532426439], 'err_t': array([3.58422939e-04, 7.16845878e-04, 5.37634409e-03, 2.36559140e-02,\n",
      "       8.35125448e-02, 3.89964158e-01, 7.34767025e-01, 9.00358423e-01,\n",
      "       9.75268817e-01, 9.92473118e-01]), 'err_t_mean': [1.9796958764847339], 'err_t_median': [0.6131598595007375], 'epi_dists': array([0.02956989, 0.04584229, 0.09612903, 0.17727599, 0.33114695,\n",
      "       0.6265233 , 0.8116129 , 0.89917563, 0.93473118, 0.94677419]), 'epi_dists_mean': [10.764725154709133], 'epi_dists_median': [0.3452266774934001]}, 'Si-D.k': {'err_q': array([0.02544803, 0.14802867, 0.64408602, 0.93835125, 0.99318996,\n",
      "       0.99856631, 0.99964158, 1.        , 1.        , 1.        ]), 'err_q_mean': [0.04912594307438353], 'err_q_median': [0.04026758843524583], 'err_t': array([7.16845878e-04, 1.07526882e-03, 7.52688172e-03, 3.72759857e-02,\n",
      "       1.36200717e-01, 5.08243728e-01, 8.11469534e-01, 9.13978495e-01,\n",
      "       9.63082437e-01, 9.83870968e-01]), 'err_t_mean': [1.4763086478585226], 'err_t_median': [0.49289717636018093], 'epi_dists': array([0.02010753, 0.03935484, 0.09896057, 0.19688172, 0.36910394,\n",
      "       0.66702509, 0.83154122, 0.90286738, 0.93580645, 0.94706093]), 'epi_dists_mean': [10.683996], 'epi_dists_median': [0.3002188]}, 'Sp-D-end-k-f-p.k': {'err_q': array([0.01362007, 0.09103943, 0.47992832, 0.87849462, 0.99139785,\n",
      "       1.        , 1.        , 1.        , 1.        , 1.        ]), 'err_q_mean': [0.06000103827856245], 'err_q_median': [0.05220114373746524], 'err_t': array([0.        , 0.00143369, 0.01433692, 0.03870968, 0.12759857,\n",
      "       0.46810036, 0.78709677, 0.91146953, 0.97634409, 0.99498208]), 'err_t_mean': [0.9889595409030143], 'err_t_median': [0.5269709616718992], 'epi_dists': array([0.00810036, 0.01655914, 0.04035842, 0.08064516, 0.16043011,\n",
      "       0.36387097, 0.56810036, 0.71383513, 0.80942652, 0.86971326]), 'epi_dists_mean': [11.336932], 'epi_dists_median': [0.7868688]}, 'Sp-k.k': {'err_q': array([3.58422939e-04, 1.21863799e-02, 8.74551971e-02, 3.02150538e-01,\n",
      "       6.29032258e-01, 9.19713262e-01, 9.69892473e-01, 9.86379928e-01,\n",
      "       9.96057348e-01, 9.98566308e-01]), 'err_q_mean': [0.5146679399126118], 'err_q_median': [0.15272113840763202], 'err_t': array([0.        , 0.        , 0.00179211, 0.0046595 , 0.02150538,\n",
      "       0.1265233 , 0.36200717, 0.65519713, 0.88637993, 0.95089606]), 'err_t_mean': [4.150402951430645], 'err_t_median': [1.3616612568644935], 'epi_dists': array([0.02150538, 0.02738351, 0.04594982, 0.07913978, 0.14713262,\n",
      "       0.29878136, 0.48322581, 0.66354839, 0.79824373, 0.86458781]), 'epi_dists_mean': [11.713312225654725], 'epi_dists_median': [1.0569767485569406]}}\n"
     ]
    }
   ],
   "source": [
    "## read the results under 'seq_dict_name'\n",
    "\n",
    "config['data']['base_path'] = '/home/yoyee/Documents/deepSfm/deepFEPE/logs/'\n",
    "# config['data']['s.k'] = ['eval_sift_deepF', 'opencv_8p_err_ratio.npz']\n",
    "seq_dict_name = ['seq_dict_test']\n",
    "table_processor = Exp_table_processor(config, seq_dict_name=seq_dict_name, debug=True)\n",
    "table_processor.get_result_dict(if_print=True)\n"
   ]
  },
  {
   "cell_type": "markdown",
   "metadata": {},
   "source": [
    "### get absolute poses by accumulate them"
   ]
  },
  {
   "cell_type": "code",
   "execution_count": 43,
   "metadata": {},
   "outputs": [
    {
     "name": "stdout",
     "output_type": "stream",
     "text": [
      "pose abs 0: [[ 9.99951437e-01 -3.78254508e-03  9.10037539e-03  1.42027220e-01]\n",
      " [ 3.77492550e-03  9.99992510e-01  8.54313187e-04 -4.26491379e-03]\n",
      " [-9.10353871e-03 -8.19918459e-04  9.99958226e-01  9.89306302e-01]]\n",
      "pose abs 1: [[ 9.99834562e-01 -5.10721857e-03  1.74575259e-02  1.30821925e-01]\n",
      " [ 5.08909684e-03  9.99986465e-01  1.08231443e-03 -2.24738588e-02]\n",
      " [-1.74628173e-02 -9.93292329e-04  9.99847020e-01  1.98856509e+00]]\n",
      "pose abs 2: [[ 9.99784252e-01 -8.90695671e-03  1.87647192e-02  1.87758367e-01]\n",
      " [ 8.90975389e-03  9.99960305e-01 -6.54671357e-05 -5.01609133e-02]\n",
      " [-1.87633913e-02  2.32642041e-04  9.99823925e-01  2.98647193e+00]]\n",
      "pose abs 3: [[ 9.99826103e-01 -6.92610357e-03  1.73145351e-02  2.12279527e-01]\n",
      " [ 6.97004693e-03  9.99972636e-01 -2.47888918e-03 -3.47608717e-02]\n",
      " [-1.72968922e-02  2.59914123e-03  9.99847019e-01  3.98613656e+00]]\n",
      "pose abs 4: [[ 9.99897421e-01 -4.60830704e-03  1.35614061e-02  9.97734277e-02]\n",
      " [ 4.66731832e-03  9.99979764e-01 -4.32298596e-03 -4.57186144e-02]\n",
      " [-1.35412100e-02  4.38583791e-03  9.99898695e-01  4.97995832e+00]]\n",
      "pose abs: 2791\n"
     ]
    }
   ],
   "source": [
    "## get absolute poses by accumulate them\n",
    "\n",
    "poses_abs = []\n",
    "poses_abs.append(np.identity(4)[:3])\n",
    "last_pose = np.identity(4)\n",
    "seq = 'Sp-k.k' # 'Si-D-k-f.k'\n",
    "from numpy.linalg import inv\n",
    "# for i, pose in enumerate(table_processor.exp_dict['Si-D-k-f.k']['relative_poses_body']):\n",
    "for i, pose in enumerate(table_processor.exp_dict[seq]['relative_poses_body']):\n",
    "# for i, pose in enumerate(table_processor.exp_dict[seq]['relative_poses_cam']):\n",
    "#     print(f\"{i}: {pose}\")\n",
    "    last_pose = pose @ last_pose  ## make sure the multiplication order.\n",
    "    poses_abs.append(inv(last_pose)[:3])\n",
    "    if i<5: print(f\"pose abs {i}: {poses_abs[-1]}\")\n",
    "    \n",
    "print(f\"pose abs: {len(poses_abs)}\")\n"
   ]
  },
  {
   "cell_type": "code",
   "execution_count": 44,
   "metadata": {},
   "outputs": [],
   "source": [
    "## export to sequence 09, 10\n",
    "\n",
    "from pathlib import Path\n",
    "poses_abs_tmp = poses_abs[:1591]\n",
    "folder = 'logs/trajectory/sp_ran_kitti/'\n",
    "Path(f'{folder}/09').mkdir(parents=True, exist_ok=True)\n",
    "Path(f'{folder}/10').mkdir(parents=True, exist_ok=True)\n",
    "np.savetxt(f'{folder}/09/09.txt', np.stack(poses_abs_tmp).reshape(-1, 12), delimiter=' ')\n",
    "poses_abs_tmp = poses_abs[1591:]\n",
    "np.savetxt(f'{folder}/10/10.txt', np.stack(poses_abs_tmp).reshape(-1, 12), delimiter=' ')"
   ]
  },
  {
   "cell_type": "markdown",
   "metadata": {},
   "source": [
    "### Compare with gt using small snippet ATE"
   ]
  },
  {
   "cell_type": "code",
   "execution_count": 45,
   "metadata": {},
   "outputs": [
    {
     "name": "stderr",
     "output_type": "stream",
     "text": [
      "[07/11/2020 11:28:06 INFO] read from: datasets/kitti_gt_poses//09.txt\n"
     ]
    },
    {
     "name": "stdout",
     "output_type": "stream",
     "text": [
      "\n",
      "Results\n",
      "\t        ATE,         RE\n",
      "mean \t     0.0342,     0.0059\n",
      "std \t     0.0541,     0.0079\n",
      "aligned_poses: [array([[1., 0., 0., 0.],\n",
      "       [0., 1., 0., 0.],\n",
      "       [0., 0., 1., 0.]]), array([[ 9.99951437e-01, -3.78254508e-03,  9.10037539e-03,\n",
      "         4.70742549e-01],\n",
      "       [ 3.77492550e-03,  9.99992510e-01,  8.54313187e-04,\n",
      "        -1.41358564e-02],\n",
      "       [-9.10353871e-03, -8.19918459e-04,  9.99958226e-01,\n",
      "         3.27900926e+00]])]\n"
     ]
    }
   ],
   "source": [
    "# get_ate_error\n",
    "gt_path = 'datasets/kitti_gt_poses/'\n",
    "poses_abs_tmp = poses_abs[:1591]\n",
    "seq = '09'\n",
    "poses_gt = table_processor.read_gt_poses(path=gt_path, seq=seq)\n",
    "data = table_processor.pose_seq_ate(poses_abs_tmp, poses_gt, 5)\n",
    "aligned_poses = data['aligned_poses']\n",
    "print(f\"aligned_poses: {aligned_poses[:2]}\")\n",
    "# np.savetxt('logs/trajectory/kitti_est_10_spDEnd_full_1106.txt', np.stack(poses_abs).reshape(-1, 12), delimiter=' ')\n",
    "# np.savetxt('logs/trajectory/test.txt', np.stack(poses_abs_tmp).reshape(-1, 12), delimiter=' ')\n",
    "np.savetxt('logs/trajectory/09/09.txt', np.stack(poses_abs_tmp).reshape(-1, 12), delimiter=' ')"
   ]
  },
  {
   "cell_type": "markdown",
   "metadata": {},
   "source": [
    "## Random testing scripts"
   ]
  },
  {
   "cell_type": "code",
   "execution_count": 182,
   "metadata": {
    "jupyter": {
     "outputs_hidden": true
    },
    "scrolled": true
   },
   "outputs": [
    {
     "name": "stdout",
     "output_type": "stream",
     "text": [
      "rot_list: 1590, trans_list: 1590\n",
      "original poses: [[[ 1.000000e+00  1.197625e-11  1.704638e-10  5.551115e-17]\n",
      "  [ 1.197625e-11  1.000000e+00  3.562503e-10  0.000000e+00]\n",
      "  [ 1.704638e-10  3.562503e-10  1.000000e+00  2.220446e-16]]\n",
      "\n",
      " [[ 9.999268e-01 -3.092411e-03  1.169425e-02  2.138869e-02]\n",
      "  [ 3.079219e-03  9.999946e-01  1.146026e-03 -8.456433e-03]\n",
      "  [-1.169773e-02 -1.109933e-03  9.999310e-01  2.880714e-01]]\n",
      "\n",
      " [[ 9.998143e-01 -5.167713e-03  1.856600e-02  3.879027e-02]\n",
      "  [ 5.141246e-03  9.999857e-01  1.473072e-03 -1.513783e-02]\n",
      "  [-1.857335e-02 -1.377345e-03  9.998266e-01  5.807338e-01]]\n",
      "\n",
      " [[ 9.997542e-01 -8.010201e-03  2.067129e-02  5.418066e-02]\n",
      "  [ 8.008308e-03  9.999679e-01  1.744436e-04 -2.008116e-02]\n",
      "  [-2.067202e-02 -8.857983e-06  9.997863e-01  8.792349e-01]]]\n",
      "relative poses_list: [array([[ 0.99992687,  0.00307922, -0.01169773, -0.01799131],\n",
      "       [-0.00309241,  0.99999464, -0.00110993,  0.00884227],\n",
      "       [ 0.01169425,  0.00114603,  0.999931  , -0.28829193],\n",
      "       [ 0.        ,  0.        ,  0.        ,  1.        ]],\n",
      "      dtype=float32), array([[ 9.9997419e-01,  2.0699953e-03, -6.8740943e-03, -1.1928279e-02],\n",
      "       [-2.0720493e-03,  9.9999779e-01, -2.9167387e-04,  7.1743261e-03],\n",
      "       [ 6.8734768e-03,  3.0590864e-04,  9.9997628e-01, -2.9292485e-01],\n",
      "       [ 0.0000000e+00,  0.0000000e+00,  0.0000000e+00,  1.0000000e+00]],\n",
      "      dtype=float32), array([[ 0.9999938 ,  0.00287022, -0.00209521, -0.00917639],\n",
      "       [-0.00286747,  0.999995  ,  0.00131545,  0.0050691 ],\n",
      "       [ 0.00209896, -0.00130943,  0.999997  , -0.29875463],\n",
      "       [ 0.        ,  0.        ,  0.        ,  1.        ]],\n",
      "      dtype=float32), array([[ 0.99999744,  0.00148781,  0.00169531, -0.00511695],\n",
      "       [-0.0014909 ,  0.99999726,  0.00182098,  0.00420012],\n",
      "       [-0.0016926 , -0.0018235 ,  0.99999696, -0.30613548],\n",
      "       [ 0.        ,  0.        ,  0.        ,  1.        ]],\n",
      "      dtype=float32)]\n",
      "inv poses_list: [[[ 9.9992681e-01 -3.0924110e-03  1.1694250e-02  2.1388691e-02]\n",
      "  [ 3.0792190e-03  9.9999458e-01  1.1460256e-03 -8.4564341e-03]\n",
      "  [-1.1697730e-02 -1.1099332e-03  9.9993098e-01  2.8807139e-01]\n",
      "  [ 0.0000000e+00  0.0000000e+00  0.0000000e+00  1.0000000e+00]]\n",
      "\n",
      " [[ 9.9997425e-01 -2.0720493e-03  6.8734759e-03  1.3956250e-02]\n",
      "  [ 2.0699955e-03  9.9999785e-01  3.0590984e-04 -7.0600105e-03]\n",
      "  [-6.8740961e-03 -2.9167271e-04  9.9997640e-01  2.9283804e-01]\n",
      "  [ 0.0000000e+00  0.0000000e+00  0.0000000e+00  1.0000000e+00]]\n",
      "\n",
      " [[ 9.9999356e-01 -2.8674691e-03  2.0989717e-03  9.8179476e-03]\n",
      "  [ 2.8702219e-03  9.9999505e-01 -1.3094338e-03 -5.4339329e-03]\n",
      "  [-2.0951966e-03  1.3154496e-03  9.9999684e-01  2.9872781e-01]\n",
      "  [ 0.0000000e+00  0.0000000e+00  0.0000000e+00  1.0000000e+00]]\n",
      "\n",
      " [[ 9.9999750e-01 -1.4908968e-03 -1.6925968e-03  4.6050395e-03]\n",
      "  [ 1.4878099e-03  9.9999720e-01 -1.8235017e-03 -4.7507333e-03]\n",
      "  [ 1.6953145e-03  1.8209781e-03  9.9999684e-01  3.0613554e-01]\n",
      "  [ 0.0000000e+00  0.0000000e+00  0.0000000e+00  1.0000000e+00]]]\n",
      "rot: [0.6960860425127708, 0.41168614406249215, 0.21704901048223266, 0.16614039010265375], trans: [3.9777381824027973, 2.720597202167962, 2.0097396250329793, 1.2389105114417374]\n"
     ]
    }
   ],
   "source": [
    "## load kitti poses gt file\n",
    "import dsac_tools.utils_misc as utils_misc\n",
    "filename = '/data/kitti/odometry/poses/09.txt'\n",
    "poses = (\n",
    "    np.genfromtxt(filename)\n",
    "    .astype(np.float32)\n",
    "    .reshape(-1, 3, 4)\n",
    ")\n",
    "\n",
    "def get_relative_poses(poses, delta_ij=1):\n",
    "    poses_list = []\n",
    "    for frame_num in range(len(poses)-delta_ij):\n",
    "        j = delta_ij + frame_num\n",
    "        relative_scene_pose = np.linalg.inv(\n",
    "            utils_misc.Rt_pad(poses[j])\n",
    "        ) @ utils_misc.Rt_pad(poses[frame_num])\n",
    "        poses_list.append(relative_scene_pose)\n",
    "    return poses_list\n",
    "\n",
    "\n",
    "poses_list = get_relative_poses(poses, delta_ij=1)\n",
    "data = relative_poses_to_rt(poses_list)\n",
    "\n",
    "print(f\"original poses: {poses[:4]}\")\n",
    "print(f\"relative poses_list: {poses_list[:4]}\")\n",
    "print(f\"inv poses_list: {np.linalg.inv(poses_list[:4])}\")\n",
    "print(f\"rot: {data['rot'][:4]}, trans: {data['trans'][:4]}\")\n",
    "\n",
    "\n"
   ]
  },
  {
   "cell_type": "markdown",
   "metadata": {},
   "source": [
    "### check reproducibility\n",
    "- load two dict of results\n",
    "- compare if they are exactly the same"
   ]
  },
  {
   "cell_type": "code",
   "execution_count": 40,
   "metadata": {
    "scrolled": true
   },
   "outputs": [
    {
     "name": "stdout",
     "output_type": "stream",
     "text": [
      "len of exp_list: 2\n"
     ]
    }
   ],
   "source": [
    "import numpy as np\n",
    "from numpy.linalg import norm as norm\n",
    "base_path = 'logs/results'\n",
    "folder_list = [f'{base_path}/baselineTrain_deepF_kitti_fLoss_v1_30.0k_kittiTestall_1107', \n",
    "               f'{base_path}/baselineTrain_deepF_kitti_fLoss_v1_30.0k_kittiTestall_1107']\n",
    "err_mat = ['err_q', 'err_t']\n",
    "result_names = ['DeepF_err_ratio.npz', 'DeepF_err_ratio.npz']\n",
    "exp_list = []\n",
    "\n",
    "exp_list = read_file_to_list(folder_list, result_names)\n",
    "    \n",
    "def check_reproducibility():\n",
    "    # compare dictions\n",
    "    for en in err_mat:\n",
    "        err_dict = exp_list[0]\n",
    "\n",
    "        # print lists\n",
    "        def print_dict(err_dict):\n",
    "            print(f\"{list(err_dict)}\")\n",
    "            for en_1 in list(err_dict):\n",
    "                print(f\"[{en_1}]: {err_dict[en_1].shape}\")\n",
    "        print_dict(err_dict)\n",
    "\n",
    "        for i in range(1, len(exp_list)):\n",
    "            print_dict(exp_list[i])\n",
    "            print(f\"shape: list[0][{en}].shape = {err_dict[en].shape}, list[{i}][{en}].shape = {exp_list[i][en].shape}\")        \n",
    "            print(f\"diff: {err_dict[en] - exp_list[i][en]}\")\n",
    "    #         if norm(, ord='fro') != 0:\n",
    "    #             print(f\"list[0][{en}] != list[{i}][{en}]\")\n",
    "    pass\n",
    "\n",
    "# check_reproducibility()\n",
    "    "
   ]
  },
  {
   "cell_type": "markdown",
   "metadata": {},
   "source": [
    "### Get inlier ratio"
   ]
  },
  {
   "cell_type": "markdown",
   "metadata": {},
   "source": [
    "### Create overleaf tables"
   ]
  },
  {
   "cell_type": "markdown",
   "metadata": {},
   "source": [
    "```\n",
    "% Please add the following required packages to your document preamble:\n",
    "% \\usepackage{multirow}\n",
    "\\begin{table}[]\n",
    "\\begin{tabular}{|l|l|l|l|}\n",
    "\\hline\n",
    "\\multirow{2}{*}{Model}             & \\multicolumn{2}{l|}{rotation} &  \\\\ \\cline{2-4} \n",
    "                                   & 0.1 px         & 1 px         &  \\\\ \\hline\n",
    "Baseline                           &                &              &  \\\\ \\hline\n",
    "Model adapted on KITTI             &                &              &  \\\\ \\hline\n",
    "Model trained on KITTI             &                &              &  \\\\ \\hline\n",
    "Model trained and adapted on KITTI &                &              &  \\\\ \\hline\n",
    "\\end{tabular}\n",
    "\\end{table}\n",
    "```"
   ]
  },
  {
   "cell_type": "markdown",
   "metadata": {},
   "source": [
    "```\n",
    "% Please add the following required packages to your document preamble:\n",
    "% \\usepackage{multirow}\n",
    "\\begin{table}[]\n",
    "\\begin{tabular}{|l|l|l|l|l|l|l|l|l|l|l|l|l|l|l|l|l|l|l|l|l|l|l|l|}\n",
    "\\hline\n",
    "\\multirow{2}{*}{Model}             & \\multicolumn{10}{l|}{rotation}                                 & \\multicolumn{10}{l|}{translation}                           & \\multicolumn{3}{l|}{epi\\_dist} \\\\ \\cline{2-24} \n",
    "                                   & 0.01 px & 0.02 & 0.05 & 0.1 & 0.2 & 0.5 & 1.0 & 2.0 & 5.0 & 10 & 0.01 & 0.02 & 0.05 & 0.1 & 0.2 & 0.5 & 1.0 & 2.0 & 5.0 & 10 & 0.01      & 0.1      & 1.0     \\\\ \\hline\n",
    "Baseline                           &         &      &      &     &     &     &     &     &     &    &      &      &      &     &     &     &     &     &     &    &           &          &         \\\\ \\hline\n",
    "Model adapted on KITTI             &         &      &      &     &     &     &     &     &     &    &      &      &      &     &     &     &     &     &     &    &           &          &         \\\\ \\hline\n",
    "Model trained on KITTI             &         &      &      &     &     &     &     &     &     &    &      &      &      &     &     &     &     &     &     &    &           &          &         \\\\ \\hline\n",
    "Model trained and adapted on KITTI &         &      &      &     &     &     &     &     &     &    &      &      &      &     &     &     &     &     &     &    &           &          &         \\\\ \\hline\n",
    "\\end{tabular}\n",
    "\\end{table}\n",
    "```"
   ]
  }
 ],
 "metadata": {
  "kernelspec": {
   "display_name": "py36-torch",
   "language": "python",
   "name": "myenv"
  },
  "language_info": {
   "codemirror_mode": {
    "name": "ipython",
    "version": 3
   },
   "file_extension": ".py",
   "mimetype": "text/x-python",
   "name": "python",
   "nbconvert_exporter": "python",
   "pygments_lexer": "ipython3",
   "version": "3.6.8"
  }
 },
 "nbformat": 4,
 "nbformat_minor": 4
}
